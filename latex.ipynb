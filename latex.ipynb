{
 "cells": [
  {
   "cell_type": "markdown",
   "metadata": {},
   "source": [
    "# An Introduction to $\\LaTeX$ (LaTeX)\n",
    "\n",
    "Latex is a typesetting language used for formatting equations (and much more) in the scientific communities. LaTeX is used very commonly in higher mathematical and computer science classes and academia. In Stat 140, we'll be using LaTeX to \"pretty print\" equations and answers for homeworks and labs"
   ]
  },
  {
   "cell_type": "markdown",
   "metadata": {},
   "source": [
    "## How To Follow This Introduction?\n",
    "\n",
    "If you're viewing through Jupyter, then you're all set! Otherwise, go ahead and download this notebook [here](#). This way, you'll be able to follow and modify the examples that we give, as well as test your own. To see the latex behind the math expressions, go ahead and edit that particular cell"
   ]
  },
  {
   "cell_type": "markdown",
   "metadata": {},
   "source": [
    "## How Do We Use LaTeX?\n",
    "\n",
    "For the purposes of this introduction, and for Prob 140, we shall use the \"math mode\" in Latex through markdown cells in Jupyter Notebook. Remember that in order to switch a cell to \"markdown mode\", simply change the option from \"code\" $\\to$ \"Markdown\" on the above toolbar.\n",
    "\n",
    "\n",
    "There are two main ways to enter math mode\n",
    "\n",
    "    $ You're in Inline Math Mode $\n",
    "    \n",
    "    $$\n",
    "You're in Centered Math Mode\n",
    "$$"
   ]
  },
  {
   "cell_type": "markdown",
   "metadata": {},
   "source": [
    "### Inline Math Mode\n",
    "\n",
    "We use inline math when we want to put in equations and/or variables in sentences / the natural flow of text. Here's an example of inline math:\n",
    "\n",
    "    Say you have $x$ cows and $y$ chickens on a farm, and you've counted $100$ legs amongst all the animals. What are $x$ and $y$?\n",
    "\n",
    "This is what that'll look like: \n",
    "\n",
    "Say you have $x$ cows and $y$ chickens on a farm, and you've counted $100$ legs amongst all the animals. What are $x$ and $y$?\n",
    "\n",
    "*Note*: Notice that text while inside math mode are somewhat italicized; don't use math mode to write all your text, leave it just for variables"
   ]
  },
  {
   "cell_type": "markdown",
   "metadata": {},
   "source": [
    "### Centered Math Mode\n",
    "\n",
    "We use centered math mode, when there are particular equations that you'd like to highlight, or have stand out. Here's an example.\n",
    "\n",
    "    $$\n",
    "1 + 2 + \\dots + n = 0.5n(n+1)\n",
    "$$\n",
    "\n",
    "This is what that'll look like: \n",
    "\n",
    "$$\n",
    "1 + 2 + \\ldots + n = 0.5n(n+1)\n",
    "$$\n",
    "\n",
    "*Note*: Don't worry about `ldots` yet"
   ]
  },
  {
   "cell_type": "markdown",
   "metadata": {},
   "source": [
    "## Superscripts and Subscripts\n",
    "\n",
    "### Superscripts \n",
    "\n",
    "In order to write superscripts, of the form $x^y$, simply write `$x^y$`\n",
    "\n",
    "\n",
    "`$ 2^3 = 8$`:    \n",
    "\n",
    "$ 2^3 = 8$\n",
    "\n",
    "`$ (x+y)^2 = x^2 + 2xy + y^2$`:\n",
    "\n",
    "$ (x+y)^2 = x^2 + 2xy + y^2$\n",
    "\n",
    "** Warning: ** Generally, the power can only be one character long; to write more, you must wrap it with braces { } . So for example: \n",
    "\n",
    "If you forget braces, it'll look like this:\n",
    "\n",
    "`$2^10 = 1024$`: \n",
    "\n",
    "$2^10 = 1024$\n",
    "\n",
    "To fix, simply add braces\n",
    "\n",
    "`$2^{10} = 1024$`:\n",
    "\n",
    "$2^{10} = 1024$\n",
    "\n",
    "### Subscripts\n",
    "\n",
    "In order to write subscripts, of the form $a_1$, simply use the *underscore character* `_` and write `$a_1$`\n",
    "\n",
    "\n",
    "`$ 2^3 = 8$`:    \n",
    "\n",
    "$ 2^3 = 8$\n",
    "\n",
    "`$ (x+y)^2 = x^2 + 2xy + y^2$`:\n",
    "\n",
    "$ (x+y)^2 = x^2 + 2xy + y^2$\n",
    "\n",
    "** Warning: ** Just as with the superscript, the subscript can only be one character long; to write more, you must wrap it with braces { }\n"
   ]
  },
  {
   "cell_type": "markdown",
   "metadata": {},
   "source": [
    "## Expressions\n",
    "\n",
    "LaTeX provides commands for writing symbols in your mathematical expressions. In the last example you saw the `\\ldots` command; as you saw, this drew the dots like this: $\\ldots$.\n",
    "\n",
    "Here are some examples of such commands\n",
    "\n",
    "1. `\\sum` : $\\sum$\n",
    "2. `\\prod` : $\\prod$\n",
    "3. `\\infty` : $\\infty$\n",
    "4. `\\log`  : $\\log$\n",
    "5. `\\int` : $\\int$\n",
    "6. `\\alpha` : $\\alpha$\n",
    "7. `\\cup` : $\\cup$\n",
    "8. `\\cap` : $\\cap$\n",
    "9. `\\ldots` : $\\ldots$\n",
    "10. `\\pm` : $\\pm$\n",
    "11. `n \\choose k` : $n \\choose k$\n",
    "\n",
    "We can use the subscripting and superscripting from the last section with any of these commands as well; it all integrates well. Here's an example from the *Math Prerequisites* worksheet\n"
   ]
  },
  {
   "cell_type": "markdown",
   "metadata": {},
   "source": [
    "**1.** Consider the sequence defined by $c_i = i$ for $i = 1, 2, \\ldots 10$. What is $\\sum_{i=1}^{10} c_i$?\n"
   ]
  },
  {
   "cell_type": "markdown",
   "metadata": {},
   "source": [
    "\n",
    "Essentially, all the greek letters have such commands (simply go `\\yourgreekletterhere`): These we use a lot; here are some of the common ones we use\n",
    "\n",
    "1. `\\alpha` : $\\alpha$\n",
    "1. `\\beta` : $\\beta$\n",
    "1. `\\lambda` : $\\lambda$\n",
    "1. `\\mu` : $\\mu$\n",
    "1. `\\sigma` : $\\sigma$\n",
    "1. `\\pi` : $\\pi$"
   ]
  },
  {
   "cell_type": "markdown",
   "metadata": {},
   "source": [
    "Some commands can take arguments (just like in Python). The way you pass in arguments into a command is by using the braces `{}` syntax\n",
    "\n",
    "    \\command{Arg 1}{Arg 2}...\n",
    "    \n",
    "The most common such command you'll use is the `\\frac` command, which creates fractions. `\\frac` takes in two arguments, the first the numerator, and the second the denominator (`\\frac{Numerator}{Denominator}`). Here are some examples\n",
    "\n",
    "1.\n",
    "    \\frac{10}{4} = \\frac{5}{2}\n",
    "\n",
    "$\\frac{10}{4} = \\frac{5}{2}$\n",
    "\n",
    "2.\n",
    "    \\frac{x^2}{x} = x\n",
    "\n",
    "$\\frac{x^2}{x} = x$\n",
    "\n",
    "Another common command you'll use is the `\\sqrt` command, which takes in one argument- the operand. Here's an example\n",
    "\n",
    "1.\n",
    "    \\sqrt{9} = 3\n",
    "\n",
    "$\\sqrt{9} = 3$\n"
   ]
  },
  {
   "cell_type": "markdown",
   "metadata": {},
   "source": [
    "### Example Combining Everything Together\n",
    "\n",
    "**Question:** Consider a polynomial $ax^2 + bx + c$. For what values of $x$ does this polynomial equal $0$?\n",
    "\n",
    "**Answer**\n",
    "    \n",
    "`$$x = \\frac{-b \\pm \\sqrt{b^2 - 4ac}}{2a}$$`\n",
    "\n",
    "$$x = \\frac{-b \\pm \\sqrt{b^2 - 4ac}}{2a}$$"
   ]
  },
  {
   "cell_type": "markdown",
   "metadata": {},
   "source": [
    "### Bounds for summations, products, and integrals\n",
    "\n",
    "For summations, products, and integrals, we often want to define the bounds or limits. In LaTeX, the syntax for the bounds are the same symbols as subscript and superscript.\n",
    "\n",
    "    \\sum_{lower}^{upper}\n",
    "    \\prod_{lower}^{upper}\n",
    "    \\int_{lower}^{upper}\n",
    "\n",
    "Note that the bounds will appear next to the symbol in inline math mode and around the symbol in centered math mode\n",
    "\n",
    "    \\sum_{i=1}^\\infty a_i\n",
    "Inline:\n",
    "$\\sum_{i=1}^\\infty a_i$\n",
    "\n",
    "Centered:\n",
    "$$\\sum_{i=1}^\\infty a_i$$\n",
    "\n",
    "    \\prod_{i=a}^{b} f(i)\n",
    "$$\\prod_{i=1}^{\\infty} f(i)$$\n",
    "\n",
    "    \\int_{0}^{1}\\frac{1}{x^2}dx\n",
    "$$\\int_{0}^{1}\\frac{1}{x^2}dx$$\n",
    "\n",
    "    \\int_{0}^{1}\\int_{0}^{1}(x+y)dxdy\n",
    "$$\\int_{0}^{1}\\int_{0}^{1}(x+y)dxdy$$\n",
    "\n",
    "    \\lim_{x\\to\\infty} f(x)\n",
    "$$\\lim_{x\\to\\infty} f(x)$$\n"
   ]
  },
  {
   "cell_type": "markdown",
   "metadata": {},
   "source": [
    "### Align\n",
    "\n",
    "When manipulating long equations, it is often useful to show the steps in between. The ``align*`` environment provides easy vertical alignment of equations.Let's see an example\n",
    "\n",
    "    \\begin{align*}\n",
    "        2x + 10 &= -4\\\\\n",
    "        2x &= -14\\\\\n",
    "        x &= -7\n",
    "\\end{align*}\n",
    "\n",
    "$$\n",
    "\\begin{align*}\n",
    "        2x + 10 &= -4\\\\\n",
    "        2x &= -14\\\\\n",
    "        x &= -7\n",
    "\\end{align*}\n",
    "$$\n",
    "\n",
    "\n",
    "    \\begin{align*}\n",
    "    f(x) &= \\int_0^1 g(x)dx = \\int_0^1 x^2dx\\\\\n",
    "    &= \\left[x^3\\right]_0^1\\\\\n",
    "    &= 1^3 - 0^3\\\\\n",
    "    &= \\boxed{1}\n",
    "\\end{align*}\n",
    "\n",
    "$$\n",
    "\\begin{align*}\n",
    "f(x) &= \\int_0^1 g(x)dx = \\int_0^1 x^2dx\\\\\n",
    "&= \\left[x^3\\right]_0^1\\\\\n",
    "&= 1^3 - 0^3\\\\\n",
    "&= \\boxed{1}\n",
    "\\end{align*}\n",
    "$$\n",
    "\n",
    "Note that the block starts with `\\begin{align*} and ends with \\end{align*}`. Each line ends with `\\\\` for new line. The character that we want to align is denoted with `&`\n",
    "\n",
    "    \\begin{align*}\n",
    "    x&=y           &  w &=z              &  a&=b+c\\\\\n",
    "    2x&=-y         &  3w&=\\frac{1}{2}z   &  a&=b\\\\\n",
    "    -4 + 5x&=2+y   &  w+2&=-1+w          &  ab&=cb\n",
    "\\end{align*}\n",
    "    \n",
    "$$\\begin{align*}\n",
    "x&=y           &  w &=z              &  a&=b+c\\\\\n",
    "2x&=-y         &  3w&=\\frac{1}{2}z   &  a&=b\\\\\n",
    "-4 + 5x&=2+y   &  w+2&=-1+w          &  ab&=cb\n",
    "\\end{align*}$$"
   ]
  },
  {
   "cell_type": "markdown",
   "metadata": {},
   "source": [
    "### Normal Text in Latex\n",
    "\n",
    "Notice that any normal text is automatically italicized in LaTeX because it usually represents variables. To make text display normally, we can use `\\text{}`\n",
    "\n",
    "For example, `$P(\\text{the coin lands heads}) = \\frac{1}{2}`$ shows up as\n",
    "\n",
    "$P(\\text{the coin lands heads}) = \\frac{1}{2}$\n",
    "\n",
    "The ability to embed normal text in LaTeX is particularly useful when there are conditions:\n",
    "\n",
    "    \\frac{x^2}{x} = x \\text{ if } x \\ne 0\n",
    "\n",
    "\n",
    "$$\n",
    "\\frac{x^2}{x} = x \\text{ if } x \\ne 0\n",
    "$$\n",
    "\n",
    "    f(x)=\\begin{cases}\n",
    "    \\lambda e^{-\\lambda x} \\text{, if }x>0\\\\\n",
    "    0 \\text{, else}\n",
    "\\end{cases}\n",
    "\n",
    "$$\n",
    "f(x)=\\begin{cases}\n",
    "    \\lambda e^{-\\lambda x} \\text{, if }x>0\\\\\n",
    "    0 \\text{, else}\n",
    "\\end{cases}\n",
    "$$\n"
   ]
  },
  {
   "cell_type": "markdown",
   "metadata": {},
   "source": [
    "### Example (3c) \n",
    "\n",
    "Let $\\{c\\}$ and $\\{d\\}$ be sequences of real numbers such that \n",
    "$$\\sum_{i=1}^{100} c_i = 10$$ \n",
    "$$\\sum_{i=1}^{100} d_i = 20$$ \n",
    "\n",
    "What is $\\sum_{i=1}^{100} (4c_i - d_i + 5)$?\n"
   ]
  },
  {
   "cell_type": "markdown",
   "metadata": {},
   "source": [
    "### Solution\n",
    "\n",
    "\n",
    "\n",
    "\\begin{align*}\n",
    "\\sum_{i=1}^{100} (4c_i - d_i + 5) &= \\sum_{i=1}^{100} 4c_i + \\sum_{i=1}^{100} - d_i + \\sum_{i=1}^{100} 5\\\\\n",
    "&= 4 \\sum_{i=1}^{100} c_i - \\sum_{i=1}^{100}  d_i + \\sum_{i=1}^{100} 5\\\\\n",
    "&= 4 (10) - (20) + 5(100)\\\\\n",
    "&= 520\n",
    "\\end{align*}\n",
    "\n",
    "$$\n",
    "\\begin{align*}\n",
    "    \\sum_{i=1}^{100} (4c_i - d_i + 5) &= \\sum_{i=1}^{100} 4c_i + \\sum_{i=1}^{100} - d_i + \\sum_{i=1}^{100} 5\\\\\n",
    "    &= 4 \\sum_{i=1}^{100} c_i - \\sum_{i=1}^{100}  d_i + \\sum_{i=1}^{100} 5\\\\\n",
    "    &= 4 (10) - (20) + 5(100)\\\\\n",
    "    &= 520\n",
    "\\end{align*}\n",
    "$$"
   ]
  },
  {
   "cell_type": "markdown",
   "metadata": {},
   "source": [
    "## Further Resources\n",
    "\n",
    "You've made it! These steps outlined above should cover all the LaTeX you need to write solutions. Sometime in your pursuit, you may need some commands or symbols that haven't been listed here. When so, the following resources are here to help\n",
    "\n",
    "- [Google](https://www.google.com/): This site lets you search for anything, including any LaTeX symbols that you might forget\n",
    "- [DeTexify](http://detexify.kirelabs.org/classify.html): This site lets you draw a symbol, and will immediately find the corresponding Latex command. Similar apps for iPhone and Android also exist\n",
    "- [ShareLatex Tutorial](https://www.sharelatex.com/learn/Mathematical_expressions) ShareLaTeX is one of the main online work environments; they have a very simple yet comprehensive tutorial about LaTex. If you'd like to learn more about LaTeX, this is your gateway\n"
   ]
  },
  {
   "cell_type": "markdown",
   "metadata": {},
   "source": [
    "## Exploration\n",
    "\n",
    "The best way to learn and absorb LaTeX is to look at examples and code it yourself. Once you have the above guiding principles down, the rest of LaTeX distills into simply finding the symbol that you were trying to find. In that spirit of exploration, we've given you the source for the *Mathematical Prerequisites* worksheet. Try to understand what each of the symbols are doing, and try writing your solutions and explanations in LaTeX below.\n",
    "\n",
    "Don't worry about the `underline` command in the later questions: we only use it to print the blank spaces"
   ]
  },
  {
   "cell_type": "markdown",
   "metadata": {},
   "source": [
    "#### Question 1: \n",
    "Consider the sequence defined by $c_i =i$, for $i=1, 2, \\ldots , 10$.\n",
    "\n",
    "1. Find $\\sum_{i=1}^{10} c_i$.\n",
    "\n",
    "`\\sum_{i=1}^{10} c_i`\n",
    "2. If possible, find $\\sum_{k=1}^{10} c_k$.  If this is not possible,explain why not.\n",
    "\n",
    "`\\sum_{k=1}^{10} c_k`"
   ]
  },
  {
   "cell_type": "markdown",
   "metadata": {},
   "source": [
    "#### Solution\n",
    "\n",
    "*Your Answer Here*"
   ]
  },
  {
   "cell_type": "markdown",
   "metadata": {},
   "source": [
    "#### Question 2\n",
    "\n",
    "Does the expression \n",
    "$$\n",
    "\\sum_{n=1}^{10} 2\n",
    "$$\n",
    "\n",
    "`\\sum_{n=1}^{10} 2`\n",
    "\n",
    "\n",
    "make sense?  If it does, what is its value?"
   ]
  },
  {
   "cell_type": "markdown",
   "metadata": {},
   "source": [
    "#### Solution\n",
    "\n",
    "*Your Answer Here*"
   ]
  },
  {
   "cell_type": "markdown",
   "metadata": {},
   "source": [
    "#### Question 3\n",
    "\n",
    "Let $\\{c\\}$ and $\\{d\\}$ be sequences of real numbers so\n",
    "that \n",
    "$$\n",
    "\\sum_{i=1}^{100} c_i ~=~ 10$$\n",
    "$$\\sum_{j=1}^{100} d_j ~=~ 20 \n",
    "$$\n",
    "In parts 1-3 find the value of the expression.\n",
    "\n",
    "\n",
    "1) $\\sum_{i=1}^{100} (4c_i + 5)$\n",
    "\n",
    "2) $\\sum_{i=1}^{100} 4c_i ~+~ 5$\n",
    "\n",
    "3) $\\sum_{i=1}^{100} (4c_i - d_i + 5)$\n",
    "\n",
    "`\\sum_{i=1}^{100} (4c_i - d_i + 5)`\n",
    "\n",
    "\n",
    "4) True or false:\n",
    "$$\n",
    "\\sum_{i=1}^{100} \\sum_{j=1}^{100} (c_i + d_j) ~~=~~\n",
    "\\sum_{i=1}^{100} (c_i + d_i)\n",
    "$$\n",
    "\n",
    "`\\sum_{i=1}^{100} \\sum_{j=1}^{100} (c_i + d_j)  = \\sum_{i=1}^{100} (c_i + d_i)`\n",
    "\n",
    "\n",
    "If you think the identity is true, find the common value of the two\n",
    "sides. If the identity is false,\n",
    "can you find the value of either of the sides?\n"
   ]
  },
  {
   "cell_type": "markdown",
   "metadata": {},
   "source": [
    "#### Solution\n",
    "\n",
    "*Your Answer Here*"
   ]
  },
  {
   "cell_type": "markdown",
   "metadata": {},
   "source": [
    "#### Question 4\n",
    "\n",
    "Let $0 < p < 1$.  Find simple expressions for\n",
    "\n",
    "1. $ \\sum_{i=0}^{100} p^i $\n",
    "\n",
    "2. $ \\sum_{i=0}^{\\infty} p^i $\n",
    "\n",
    "3. $ \\sum_{i=100}^{\\infty} p^i $\n"
   ]
  },
  {
   "cell_type": "markdown",
   "metadata": {},
   "source": [
    "#### Solution\n",
    "\n",
    "*Your Answer Here*"
   ]
  },
  {
   "cell_type": "markdown",
   "metadata": {},
   "source": [
    "#### Question 5\n",
    "\n",
    "The sum $ \\sum_{n=0}^{\\infty} \\frac{1}{n!} $ can be expressed very\n",
    "simply.  Find that simple expression and a numerical value. \n",
    "\n",
    "`\\sum_{n=0}^{\\infty} \\frac{1}{n!}`\n"
   ]
  },
  {
   "cell_type": "markdown",
   "metadata": {},
   "source": [
    "#### Solution\n",
    "\n",
    "*Your Answer Here*"
   ]
  },
  {
   "cell_type": "markdown",
   "metadata": {},
   "source": [
    "#### Question 6\n",
    "\n",
    "Repeat the previous exercise for each of the sums\n",
    "\n",
    "1. $$ \\sum_{i=0}^{\\infty} \\frac{2^i}{i!} $$\n",
    "\n",
    "` \\sum_{i=0}^{\\infty} \\frac{2^i}{i!} `\n",
    "2. $$ \\sum_{i=0}^{\\infty} \\frac{2^{3i}}{i!} $$. \n",
    "\n",
    "`\\sum_{i=0}^{\\infty} \\frac{2^{3i}}{i!}`\n",
    "\n",
    "\n",
    "If you had trouble with the previous exercise, this one might help.\n"
   ]
  },
  {
   "cell_type": "markdown",
   "metadata": {},
   "source": [
    "#### Solution\n",
    "\n",
    "*Your Answer Here*"
   ]
  },
  {
   "cell_type": "markdown",
   "metadata": {},
   "source": [
    "#### Question 7\n",
    "\n",
    "You know that $e^0 = 1$. What we're going\n",
    "to need, quite often, is an approximation to $e^x$ for a small non-zero number $x$.\n",
    "A crude approximation is 1 because $x$ is tiny. But you can get a finer approximation\n",
    "by writing the first two terms in the expansion for $e^x$ and remembering that Taylor\n",
    "says the rest is small compared to $x$.\n",
    "\n",
    "\n",
    "1.  Explain why $e^{0.01}$ is roughly $1.01$ and $e^{-0.01}$ is roughly $0.99$.\n",
    "\n",
    "2. Use your reasoning in part (a) to explain why $\\log (1+x)$ is roughly $x$ for small $x$.\n",
    "In this class, as in much of math, $\\log$ is taken to the base $e$.\n"
   ]
  },
  {
   "cell_type": "markdown",
   "metadata": {},
   "source": [
    "#### Solution\n",
    "\n",
    "*Your Answer Here*"
   ]
  },
  {
   "cell_type": "markdown",
   "metadata": {},
   "source": [
    "#### Question 8\n",
    "\n",
    "How many different ways are there to arrange six people in a row?"
   ]
  },
  {
   "cell_type": "markdown",
   "metadata": {},
   "source": [
    "#### Solution\n",
    "\n",
    "*Your Answer Here*"
   ]
  },
  {
   "cell_type": "markdown",
   "metadata": {},
   "source": [
    "#### Question 9\n",
    "\n",
    "A committee consists of 6 women and 4 men. \n",
    "How many different choices can be made if you want to select\n",
    "\n",
    "- a Chairperson and an Assistant Chairperson?\n",
    "- a subcommittee of two people?\n",
    "- a committee of two men and two women?\n"
   ]
  },
  {
   "cell_type": "markdown",
   "metadata": {},
   "source": [
    "#### Solution\n",
    "\n",
    "*Your Answer Here*"
   ]
  },
  {
   "cell_type": "markdown",
   "metadata": {},
   "source": [
    "#### Question 10\n",
    "\n",
    "Let $a$ and $b$ be any two real numbers.\n",
    "You know that $(a + b)^2 = a^2 + 2ab + b^2$.\n",
    "\n",
    "1. Analogously, write the following as a sum of four terms: $(a + b)^3$\n",
    "\n",
    "2. Let $n$ be a non-negative integer. Fill in the blanks:\n",
    "$$\n",
    "(a + b)^n ~=~ \\sum_{k=\\underline{~~}}^{\\underline{~~}} \\underline{~~~~~} a^k b^{n-k}\n",
    "$$\n",
    "\n",
    "\n",
    "`(a + b)^n ~=~ \\sum_{k=\\underline{~~}}^{\\underline{~~}} \\underline{~~~~~} a^k b^{n-k}`"
   ]
  },
  {
   "cell_type": "markdown",
   "metadata": {},
   "source": [
    "#### Solution\n",
    "\n",
    "*Your Answer Here*"
   ]
  },
  {
   "cell_type": "markdown",
   "metadata": {},
   "source": [
    "#### Question 11\n",
    "\n",
    "Calculate the following.\n",
    "\n",
    "1. $\\frac{d}{dx} \\log (x^2)$\n",
    "\n",
    "2. $\\frac{d}{dx} xe^{-cx}$ where $c > 0$ is a constant\n",
    "\n",
    "3. $\\int xe^{-cx} dx$ where $c > 0$ is a constant (use part (b) or methods of integration)\n",
    "\n",
    "4. $\\int_0^{\\infty} ce^{-cx} dx$ where $c > 0$ is a constant\n",
    "\n",
    "\n"
   ]
  },
  {
   "cell_type": "markdown",
   "metadata": {},
   "source": [
    "#### Solution\n",
    "\n",
    "*Your Answer Here*"
   ]
  },
  {
   "cell_type": "markdown",
   "metadata": {},
   "source": [
    "#### Question 12\n",
    "\n",
    "Let $c > 0$ be a constant. $\\int_0^x ce^{-cx} dx$ doesn't make sense. Why not?\n",
    "\n",
    "`\\int_0^x ce^{-cx} dx`\n"
   ]
  },
  {
   "cell_type": "markdown",
   "metadata": {},
   "source": [
    "#### Solution\n",
    "\n",
    "*Your Answer Here*"
   ]
  },
  {
   "cell_type": "markdown",
   "metadata": {},
   "source": [
    "#### Question 13\n",
    "\n",
    "Calculate $ \\int_0^1 \\int_0^1 (x+xy+y) dx dy $.\n",
    "\n",
    "`\\int_0^1 \\int_0^1 (x+xy+y) dx dy `\n"
   ]
  },
  {
   "cell_type": "markdown",
   "metadata": {},
   "source": [
    "#### Solution\n",
    "\n",
    "*Your Answer Here*"
   ]
  },
  {
   "cell_type": "markdown",
   "metadata": {},
   "source": [
    "#### Question 14\n",
    "\n",
    " Fill in the blanks (it really helps to draw the region of integration):\n",
    "\n",
    "`\\int_0^1 \\int_y^1 (x+xy+y) dx dy ~=~ \\int_0^1 \\int_{\\underline{~~}}^{\\underline{~~}} (x+xy+y) dy dx`\n",
    "\n",
    "\n",
    "$$\n",
    "\\int_0^1 \\int_y^1 (x+xy+y) dx dy ~=~ \\int_0^1 \\int_{\\underline{~~}}^{\\underline{~~}} (x+xy+y) dy dx\n",
    "$$\n",
    "\n",
    "\n"
   ]
  },
  {
   "cell_type": "markdown",
   "metadata": {},
   "source": [
    "#### Solution\n",
    "\n",
    "*Your Answer Here*"
   ]
  }
 ],
 "metadata": {
  "kernelspec": {
   "display_name": "Python 3",
   "language": "python",
   "name": "python3"
  },
  "language_info": {
   "codemirror_mode": {
    "name": "ipython",
    "version": 3
   },
   "file_extension": ".py",
   "mimetype": "text/x-python",
   "name": "python",
   "nbconvert_exporter": "python",
   "pygments_lexer": "ipython3",
   "version": "3.5.2"
  }
 },
 "nbformat": 4,
 "nbformat_minor": 2
}
